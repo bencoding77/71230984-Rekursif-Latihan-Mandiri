{
  "nbformat": 4,
  "nbformat_minor": 0,
  "metadata": {
    "colab": {
      "provenance": []
    },
    "kernelspec": {
      "name": "python3",
      "display_name": "Python 3"
    },
    "language_info": {
      "name": "python"
    }
  },
  "cells": [
    {
      "cell_type": "markdown",
      "source": [
        "Soal 1"
      ],
      "metadata": {
        "id": "wdRO8TpJk966"
      }
    },
    {
      "cell_type": "code",
      "execution_count": 12,
      "metadata": {
        "colab": {
          "base_uri": "https://localhost:8080/"
        },
        "id": "SsmIoy7Dk6_t",
        "outputId": "51c0c874-bf09-4000-c0b0-f07a4db19d69"
      },
      "outputs": [
        {
          "output_type": "stream",
          "name": "stdout",
          "text": [
            "Masukkan angka: 3\n",
            "Angka prima\n"
          ]
        }
      ],
      "source": [
        "def prima(angka, pembagi = None):\n",
        "    if angka < 2:\n",
        "        return False\n",
        "    if pembagi is None:\n",
        "        pembagi = angka - 1\n",
        "    if pembagi == 1:\n",
        "        return True\n",
        "    if angka % pembagi == 0:\n",
        "        return False\n",
        "    return prima(angka, pembagi - 1)\n",
        "\n",
        "angka = int(input(\"Masukkan angka: \"))\n",
        "if prima(angka):\n",
        "    print(\"Angka prima\")\n",
        "else:\n",
        "    print(\"Bukan angka prima\")"
      ]
    },
    {
      "cell_type": "markdown",
      "source": [
        "Soal 2"
      ],
      "metadata": {
        "id": "gAC8_DirnSvU"
      }
    },
    {
      "cell_type": "code",
      "source": [
        "def palindrome(kalimat):\n",
        "    if len(kalimat) <= 1:\n",
        "        return True\n",
        "    else:\n",
        "        for char in kalimat:\n",
        "            if char.isalnum():\n",
        "                if char.lower() == kalimat[-1].lower():\n",
        "                    return palindrome(kalimat[1:-1])\n",
        "                else:\n",
        "                    return False\n",
        "        return True\n",
        "\n",
        "kalimat = input('Masukkan kalimat anda: ')\n",
        "if palindrome(kalimat):\n",
        "    print(\"Kalimat anda adalah kalimat palindrom\")\n",
        "else:\n",
        "    print(\"Kalimat anda bukan kalimat palindrom\")"
      ],
      "metadata": {
        "colab": {
          "base_uri": "https://localhost:8080/"
        },
        "id": "O4VeCbSZnUIU",
        "outputId": "d2214ace-e53b-4791-d4c5-bf85cbac1b3c"
      },
      "execution_count": 2,
      "outputs": [
        {
          "output_type": "stream",
          "name": "stdout",
          "text": [
            "Masukkan kalimat anda: apa\n",
            "Kalimat anda adalah kalimat palindrom\n"
          ]
        }
      ]
    },
    {
      "cell_type": "markdown",
      "source": [
        "Soal 3"
      ],
      "metadata": {
        "id": "WjdIWkxdplzM"
      }
    },
    {
      "cell_type": "code",
      "source": [
        "def deretganjil(angka, total = 0):\n",
        "   if angka < 1:\n",
        "      return total\n",
        "   else:\n",
        "      return deretganjil(angka - 1, total + (2 * angka - 1))\n",
        "\n",
        "angka = int(input(\"Masukkan jumlah deret ganjil yang diinginkan: \"))\n",
        "print(f\"Hasil jumlah deret ganjil: {deretganjil(angka)}\")"
      ],
      "metadata": {
        "colab": {
          "base_uri": "https://localhost:8080/"
        },
        "id": "Ux3lxi8ypnDF",
        "outputId": "ff0f417b-66b3-4061-d7b8-6bb9b42b22ed"
      },
      "execution_count": 9,
      "outputs": [
        {
          "output_type": "stream",
          "name": "stdout",
          "text": [
            "Masukkan jumlah deret ganjil yang diinginkan: 4\n",
            "Hasil jumlah deret ganjil: 16\n"
          ]
        }
      ]
    },
    {
      "cell_type": "markdown",
      "source": [
        "Soal 4"
      ],
      "metadata": {
        "id": "oPqq9w-Sqh5m"
      }
    },
    {
      "cell_type": "code",
      "source": [
        "def jumlah(angka, total=0):\n",
        "    if angka == \"\":\n",
        "        return total\n",
        "    if angka[0].isdigit():\n",
        "        return jumlah(angka[1:], total + int(angka[0]))\n",
        "    else:\n",
        "        return jumlah(angka[1:], total)\n",
        "\n",
        "angka = input(\"Masukkan kalimat: \")\n",
        "if jumlah(angka):\n",
        "    print(\"Jumlah angka: \", jumlah(angka))"
      ],
      "metadata": {
        "colab": {
          "base_uri": "https://localhost:8080/"
        },
        "id": "eGhGN8rOqi7u",
        "outputId": "d69e00bb-ed1f-439a-c615-84aa2a6456f1"
      },
      "execution_count": 13,
      "outputs": [
        {
          "output_type": "stream",
          "name": "stdout",
          "text": [
            "Masukkan kalimat: apa55\n",
            "Jumlah angka:  10\n"
          ]
        }
      ]
    },
    {
      "cell_type": "markdown",
      "source": [
        "Soal 5"
      ],
      "metadata": {
        "id": "4vdl0kacqwQe"
      }
    },
    {
      "cell_type": "code",
      "source": [
        "def kombinasi(m, r):\n",
        "    if r == 0 or r == m:\n",
        "        return 1\n",
        "    if r > m:\n",
        "        return 0\n",
        "    else:\n",
        "        pertama = kombinasi(m - 1, r - 1)\n",
        "        kedua = kombinasi(m - 1, r)\n",
        "        hasil = pertama + kedua\n",
        "        return hasil\n",
        "\n",
        "m = int(input(\"Masukkan angka pertama: \"))\n",
        "r = int(input(\"Masukkan angka kedua: \"))\n",
        "print(f\"Hasil kombinasinya adalah: {kombinasi(m, r)}\")"
      ],
      "metadata": {
        "colab": {
          "base_uri": "https://localhost:8080/"
        },
        "id": "6ae2q-p6qxUS",
        "outputId": "da496962-a9a3-4c5b-8769-35ba0c2d2a84"
      },
      "execution_count": 11,
      "outputs": [
        {
          "output_type": "stream",
          "name": "stdout",
          "text": [
            "Masukkan angka pertama: 3\n",
            "Masukkan angka kedua: 2\n",
            "Hasil kombinasinya adalah: 3\n"
          ]
        }
      ]
    }
  ]
}